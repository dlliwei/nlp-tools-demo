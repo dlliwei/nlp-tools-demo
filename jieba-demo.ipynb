{
 "cells": [
  {
   "cell_type": "code",
   "execution_count": 2,
   "metadata": {},
   "outputs": [],
   "source": [
    "import jieba"
   ]
  },
  {
   "cell_type": "markdown",
   "metadata": {},
   "source": [
    "# 分词"
   ]
  },
  {
   "cell_type": "code",
   "execution_count": 6,
   "metadata": {},
   "outputs": [
    {
     "name": "stdout",
     "output_type": "stream",
     "text": [
      "[全模式]: 我/ 来到/ 北京/ 清华/ 清华大学/ 华大/ 大学\n",
      "[精确模式]: 我/ 来到/ 北京/ 清华大学\n",
      "[新词识别]:  他, 来到, 了, 网易, 杭研, 大厦\n",
      "[搜索引擎模式]:  小明, 硕士, 毕业, 于, 中国, 科学, 学院, 科学院, 中国科学院, 计算, 计算所, ，, 后, 在, 日本, 京都, 大学, 日本京都大学, 深造\n"
     ]
    }
   ],
   "source": [
    "seg_list = jieba.cut(\"我来到北京清华大学\", cut_all=True)\n",
    "print(\"[全模式]: \" + \"/ \".join(seg_list))  # 全模式\n",
    "\n",
    "seg_list = jieba.cut(\"我来到北京清华大学\", cut_all=False)\n",
    "print(\"[精确模式]: \" + \"/ \".join(seg_list))  # 精确模式\n",
    "\n",
    "seg_list = jieba.cut(\"他来到了网易杭研大厦\")  # 默认是精确模式， (此处，“杭研”并没有在词典中，但是也被Viterbi算法识别出来了)\n",
    "print(\"[新词识别]: \", \", \".join(seg_list))\n",
    "\n",
    "seg_list = jieba.cut_for_search(\"小明硕士毕业于中国科学院计算所，后在日本京都大学深造\")  # 搜索引擎模式\n",
    "print(\"[搜索引擎模式]: \", \", \".join(seg_list))"
   ]
  },
  {
   "cell_type": "markdown",
   "metadata": {},
   "source": [
    "# 添加自定义词典,灵活调整词典"
   ]
  },
  {
   "cell_type": "code",
   "execution_count": null,
   "metadata": {},
   "outputs": [],
   "source": [
    "# 开发者可以指定自己自定义的词典，以便包含 jieba 词库里没有的词。虽然 jieba 有新词识别能力，但是自行添加新词可以保证更高的正确率\n",
    "# 例如： \n",
    "'''\n",
    "之前： 李小福 / 是 / 创新 / 办 / 主任 / 也 / 是 / 云 / 计算 / 方面 / 的 / 专家 /\n",
    "加载自定义词库后：　李小福 / 是 / 创新办 / 主任 / 也 / 是 / 云计算 / 方面 / 的 / 专家 /\n",
    "'''\n"
   ]
  },
  {
   "cell_type": "markdown",
   "metadata": {},
   "source": [
    "# 词性标注(关键词+词性)"
   ]
  },
  {
   "cell_type": "code",
   "execution_count": 3,
   "metadata": {},
   "outputs": [
    {
     "name": "stderr",
     "output_type": "stream",
     "text": [
      "Building prefix dict from the default dictionary ...\n",
      "Loading model from cache C:\\Users\\wei.li\\AppData\\Local\\Temp\\jieba.cache\n",
      "Loading model cost 0.912 seconds.\n",
      "Prefix dict has been built successfully.\n"
     ]
    },
    {
     "name": "stdout",
     "output_type": "stream",
     "text": [
      "我/r\n",
      "爱/v\n",
      "北京/ns\n",
      "天安门/ns\n"
     ]
    }
   ],
   "source": [
    "import jieba.posseg as pseg\n",
    "# jieba.posseg.cut(sen):返回的每个迭代对象有两个属性-> word 词语 + flag 词性\n",
    "words = pseg.cut(\"我爱北京天安门\")\n",
    "for x in words:\n",
    "    print(x)"
   ]
  },
  {
   "cell_type": "markdown",
   "metadata": {},
   "source": [
    "# 提取关键词"
   ]
  },
  {
   "cell_type": "code",
   "execution_count": 23,
   "metadata": {},
   "outputs": [
    {
     "name": "stdout",
     "output_type": "stream",
     "text": [
      "日本京都大学\n",
      "计算所\n",
      "小明\n",
      "深造\n",
      "硕士\n",
      "计算所\n",
      "硕士\n",
      "毕业\n",
      "深造\n"
     ]
    }
   ],
   "source": [
    "\n",
    "# 方式1\n",
    "for x in jieba.analyse.extract_tags(\"小明硕士毕业于中国科学院计算所，后在日本京都大学深造\" ,topK=5, withWeight=False):\n",
    "    print(x)\n",
    "    \n",
    "# 方式2\n",
    "for x in jieba.analyse.textrank(\"小明硕士毕业于中国科学院计算所，后在日本京都大学深造\" ,topK=5, withWeight=False, allowPOS=('ns', 'n', 'vn', 'v')):\n",
    "    print(x)"
   ]
  },
  {
   "cell_type": "code",
   "execution_count": null,
   "metadata": {},
   "outputs": [],
   "source": []
  },
  {
   "cell_type": "code",
   "execution_count": null,
   "metadata": {},
   "outputs": [],
   "source": []
  },
  {
   "cell_type": "code",
   "execution_count": null,
   "metadata": {},
   "outputs": [],
   "source": []
  }
 ],
 "metadata": {
  "kernelspec": {
   "display_name": "Python 3",
   "language": "python",
   "name": "python3"
  },
  "language_info": {
   "codemirror_mode": {
    "name": "ipython",
    "version": 3
   },
   "file_extension": ".py",
   "mimetype": "text/x-python",
   "name": "python",
   "nbconvert_exporter": "python",
   "pygments_lexer": "ipython3",
   "version": "3.7.6"
  }
 },
 "nbformat": 4,
 "nbformat_minor": 4
}

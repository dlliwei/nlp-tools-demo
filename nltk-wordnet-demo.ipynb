{
 "cells": [
  {
   "cell_type": "code",
   "execution_count": 1,
   "metadata": {},
   "outputs": [],
   "source": [
    "from nltk.corpus import wordnet as wn"
   ]
  },
  {
   "cell_type": "code",
   "execution_count": null,
   "metadata": {},
   "outputs": [],
   "source": [
    "# synonym 同义词\n",
    "# lemma 词条\n",
    "# wordnet支持多种语言，但是没有中文\n",
    "# 部分nltk的resource没有下载，就不跑这个代码块啦\n",
    "# sorted(wn.langs())\n",
    "# 运行结果：\n",
    "# ['als', 'arb', 'cat', 'cmn', 'dan', 'eng', 'eus', 'fas',\n",
    "# 'fin', 'fra', 'fre', 'glg', 'heb', 'ind', 'ita', 'jpn', 'nno',\n",
    "# 'nob', 'pol', 'por', 'spa', 'tha', 'zsm']"
   ]
  },
  {
   "cell_type": "markdown",
   "metadata": {},
   "source": [
    "# Synset同义词"
   ]
  },
  {
   "cell_type": "code",
   "execution_count": 7,
   "metadata": {},
   "outputs": [
    {
     "name": "stdout",
     "output_type": "stream",
     "text": [
      "1 [dog] synsets >>  [Synset('dog.n.01'), Synset('frump.n.01'), Synset('dog.n.03'), Synset('cad.n.01'), Synset('frank.n.02'), Synset('pawl.n.01'), Synset('andiron.n.01'), Synset('chase.v.01')]\n",
      "2 [dog] synsets（VERB） >>  [Synset('chase.v.01')]\n",
      "3 [dog01] definition >>  a member of the genus Canis (probably descended from the common wolf) that has been domesticated by man since prehistoric times; occurs in many breeds\n",
      "4 [dog01] examples >>  ['the dog barked all night']\n",
      "5 [dog01] lemmas >>  [Lemma('dog.n.01.dog'), Lemma('dog.n.01.domestic_dog'), Lemma('dog.n.01.Canis_familiaris')]\n",
      "6 [dog01] lemma name >>  dog\n",
      "6 [dog01] lemma name >>  domestic_dog\n",
      "6 [dog01] lemma name >>  Canis_familiaris\n",
      "7 [dog01] lemma1 >>  Synset('dog.n.01')\n"
     ]
    }
   ],
   "source": [
    "\n",
    "#nltk.download('wordnet')\n",
    "# 查找单词，获取它全部的同义词集合synsets\n",
    "# 所谓synset，表示set of synonyms，是拥有同一个意思的同义词的集合\n",
    "# 一个单词，由于语言的发展，会存在有一种或多种意思，比如dog，会有如下的一些不同的意思。\n",
    "# synset的标识由三部分组成：词语.词性.编号。\n",
    "print(\"1 [dog] synsets >> \", wn.synsets('dog'))\n",
    "\n",
    "# 可以在synsets方法中指定pos参数来限制返回结果集的词性，NOUN,VERB,ADJ,ADV（顺序对应：名词、动词、形容词、副词）\n",
    "print(\"2 [dog] synsets（VERB） >> \", wn.synsets('dog', pos=wn.VERB))\n",
    "\n",
    "# 获取某一个同义词集合\n",
    "dog01 = wn.synset('dog.n.01')\n",
    "# 该同义词集合的概念定义\n",
    "print(\"3 [dog01] definition >> \", dog01.definition())\n",
    "# 该同义词集合表示的概念的使用例子\n",
    "print(\"4 [dog01] examples >> \", dog01.examples())\n",
    "\n",
    "# 获取该同义词集合中所有的词条\n",
    "print(\"5 [dog01] lemmas >> \",dog01.lemmas())\n",
    "for lemma in dog01.lemmas():\n",
    "    print(\"6 [dog01] lemma name >> \",lemma.name())\n",
    "# 从某个词典获取其对应的同义词集合\n",
    "lemma = dog01.lemmas()[0]\n",
    "print(\"7 [dog01] lemma1 >> \",lemma.synset())"
   ]
  },
  {
   "cell_type": "markdown",
   "metadata": {},
   "source": [
    "# 上/下位词hypernym/hyponym"
   ]
  },
  {
   "cell_type": "code",
   "execution_count": 8,
   "metadata": {},
   "outputs": [
    {
     "name": "stdout",
     "output_type": "stream",
     "text": [
      "1 [dog01] hypernym >>  [Synset('canine.n.02'), Synset('domestic_animal.n.01')]\n",
      "2 [dog01] root_hypernym >>  [Synset('entity.n.01')]\n",
      "3 [dog01] hyponym >>  [Synset('basenji.n.01'), Synset('corgi.n.01'), Synset('cur.n.01'), Synset('dalmatian.n.02'), Synset('great_pyrenees.n.01'), Synset('griffon.n.02'), Synset('hunting_dog.n.01'), Synset('lapdog.n.01'), Synset('leonberg.n.01'), Synset('mexican_hairless.n.01'), Synset('newfoundland.n.01'), Synset('pooch.n.01'), Synset('poodle.n.01'), Synset('pug.n.01'), Synset('puppy.n.01'), Synset('spitz.n.01'), Synset('toy_dog.n.01'), Synset('working_dog.n.01')]\n"
     ]
    }
   ],
   "source": [
    "#上下位关系（动词、名词， eg:水果－苹果）\n",
    "\n",
    "# 上位词,家养动物是狗的一个上位词。\n",
    "print(\"1 [dog01] hypernym >> \",dog01.hypernyms())\n",
    "# 最顶层的上位词\n",
    "print(\"2 [dog01] root_hypernym >> \",dog01.root_hypernyms())\n",
    "\n",
    "# 下位词，basenji、corgi等都是狗的不同品种，都是狗这个具体概念下的更加具体的概念\n",
    "print(\"3 [dog01] hyponym >> \",dog01.hyponyms())"
   ]
  },
  {
   "cell_type": "markdown",
   "metadata": {},
   "source": [
    "# 整体/部分关系词holonym/meronym"
   ]
  },
  {
   "cell_type": "code",
   "execution_count": 9,
   "metadata": {},
   "outputs": [
    {
     "name": "stdout",
     "output_type": "stream",
     "text": [
      "[Synset('canis.n.01'), Synset('pack.n.06')]\n",
      "[Synset('face.n.01'), Synset('visual_system.n.01')]\n",
      "[Synset('coal.n.01'), Synset('limestone.n.01'), Synset('petroleum.n.01')]\n",
      "[Synset('dog.n.01'), Synset('jackal.n.01'), Synset('wolf.n.01')]\n",
      "[Synset('beard.n.01'), Synset('brow.n.01'), Synset('cheek.n.01'), Synset('chin.n.01'), Synset('eye.n.01'), Synset('eyebrow.n.01'), Synset('facial.n.01'), Synset('facial_muscle.n.01'), Synset('facial_vein.n.01'), Synset('feature.n.02'), Synset('jaw.n.02'), Synset('jowl.n.02'), Synset('mouth.n.02'), Synset('nose.n.01')]\n",
      "[Synset('carbon.n.01')]\n"
     ]
    }
   ],
   "source": [
    "# member表示成员\n",
    "# dog是犬属动物（canis）的一种，也是犬群（pack）的组成部分\n",
    "print(dog01.member_holonyms()) \n",
    "\n",
    "# part表示部分\n",
    "# 眼睛是脸、视觉系统的组成部分\n",
    "print(wn.synset('eye.n.01').part_holonyms()) \n",
    "\n",
    "# substance表示物质，类似一种物质是某化合物中的一个组成成分的关系\n",
    "# carbon碳是煤炭、石灰岩、汽油的组成物质\n",
    "print(wn.synset('carbon.n.01').substance_holonyms())\n",
    "\n",
    "\n",
    "print(wn.synset('canis.n.01').member_meronyms())\n",
    "print(wn.synset('face.n.01').part_meronyms())\n",
    "print(wn.synset('coal.n.01').substance_meronyms())"
   ]
  },
  {
   "cell_type": "markdown",
   "metadata": {},
   "source": [
    "# 反义词antonym"
   ]
  },
  {
   "cell_type": "code",
   "execution_count": 10,
   "metadata": {},
   "outputs": [
    {
     "name": "stdout",
     "output_type": "stream",
     "text": [
      "[Lemma('bad.a.01.bad')]\n"
     ]
    }
   ],
   "source": [
    "# 定义在lemma上而不是synset上\n",
    "good = wn.synset('good.a.01')\n",
    "print(good.lemmas()[0].antonyms())"
   ]
  },
  {
   "cell_type": "markdown",
   "metadata": {},
   "source": [
    "# Lemmas"
   ]
  },
  {
   "cell_type": "markdown",
   "metadata": {},
   "source": [
    "# 相似度计算"
   ]
  }
 ],
 "metadata": {
  "kernelspec": {
   "display_name": "Python 3",
   "language": "python",
   "name": "python3"
  },
  "language_info": {
   "codemirror_mode": {
    "name": "ipython",
    "version": 3
   },
   "file_extension": ".py",
   "mimetype": "text/x-python",
   "name": "python",
   "nbconvert_exporter": "python",
   "pygments_lexer": "ipython3",
   "version": "3.7.6"
  }
 },
 "nbformat": 4,
 "nbformat_minor": 4
}

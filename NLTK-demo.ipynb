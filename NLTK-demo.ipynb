{
 "cells": [
  {
   "cell_type": "markdown",
   "metadata": {},
   "source": [
    "# NLTK基本使用"
   ]
  },
  {
   "cell_type": "code",
   "execution_count": 1,
   "metadata": {},
   "outputs": [
    {
     "name": "stdout",
     "output_type": "stream",
     "text": [
      "showing info https://raw.githubusercontent.com/nltk/nltk_data/gh-pages/index.xml\n"
     ]
    },
    {
     "data": {
      "text/plain": [
       "True"
      ]
     },
     "execution_count": 1,
     "metadata": {},
     "output_type": "execute_result"
    }
   ],
   "source": [
    "import nltk\n",
    "#nltk.download()  #下载所有软件包"
   ]
  },
  {
   "cell_type": "code",
   "execution_count": null,
   "metadata": {},
   "outputs": [],
   "source": [
    "# #nltk.download('punkt') #下载软件包\n",
    "corpus = \"兔子\"\n",
    "corpus2 = \"it is my apple. give you.\"\n",
    "\n",
    "# 分句\n",
    "sents = nltk.sent_tokenize(corpus)\n",
    "sents2 = nltk.sent_tokenize(corpus2)\n",
    "\n",
    "# 分词\n",
    "words = [nltk.word_tokenize(sent) for sent in sents]\n",
    "words2 = [nltk.word_tokenize(sent) for sent in sents2]\n",
    "\n",
    "# 词性标注\n",
    "#nltk.download('averaged_perceptron_tagger')\n",
    "tags = [nltk.pos_tag(word) for word in words]\n",
    "\n",
    "# 获取某种语言的停用词\n",
    "nltk.download('stopwords')\n",
    "stop_words = nltk.corpus.stopwords.words('english')\n",
    "\n",
    "# 去掉停用词，无效？？？？？\n",
    "filtered_corpus = [w for w in words if w not in stop_words]\n",
    "\n",
    "\n",
    "# 命名实体识别（NER） ？？？？\n",
    "#nltk.download('maxent_ne_chunker')\n",
    "#ners = nltk.ne_chunk(tags)\n",
    "\n",
    "# 句法分析  ？？？？\n",
    "# nltk没有好的parser，推荐使用stanfordparser,但是nltk有很好的树类，该类用list实现\n",
    "# 可以利用stanfordparser的输出构建一棵python的句法树\n",
    "\n",
    "\n"
   ]
  },
  {
   "cell_type": "markdown",
   "metadata": {},
   "source": [
    "# 词干提取/单词变体还原"
   ]
  },
  {
   "cell_type": "code",
   "execution_count": 22,
   "metadata": {},
   "outputs": [
    {
     "name": "stdout",
     "output_type": "stream",
     "text": [
      "1 working 词干：>> work\n",
      "1 worked 词干：>> work\n",
      "2 increases 还原词：>> increas\n"
     ]
    }
   ],
   "source": [
    "# 例如working的词干为work\n",
    "#最常见的是波特词干算法。NLTK有一个名为PorterStemmer的类，就是这个算法的实现:\n",
    "from nltk.stem import PorterStemmer\n",
    "stemmer = PorterStemmer()  \n",
    "print(\"1 working 词干：>>\", stemmer.stem('working'))  \n",
    "print(\"1 worked 词干：>>\", stemmer.stem('worked'))\n",
    "#还有其他的一些词干提取算法，比如 Lancaster词干算法。\n",
    "\n",
    "#单词变体还原类似于词干，但不同的是，变体还原的结果是一个真实的单词\n",
    "print(\"2 increases 还原词：>>\", stemmer.stem('increases')) #increas"
   ]
  },
  {
   "cell_type": "code",
   "execution_count": null,
   "metadata": {},
   "outputs": [],
   "source": []
  },
  {
   "cell_type": "code",
   "execution_count": null,
   "metadata": {},
   "outputs": [],
   "source": []
  },
  {
   "cell_type": "code",
   "execution_count": null,
   "metadata": {},
   "outputs": [],
   "source": []
  }
 ],
 "metadata": {
  "kernelspec": {
   "display_name": "Python 3",
   "language": "python",
   "name": "python3"
  },
  "language_info": {
   "codemirror_mode": {
    "name": "ipython",
    "version": 3
   },
   "file_extension": ".py",
   "mimetype": "text/x-python",
   "name": "python",
   "nbconvert_exporter": "python",
   "pygments_lexer": "ipython3",
   "version": "3.7.6"
  }
 },
 "nbformat": 4,
 "nbformat_minor": 4
}
